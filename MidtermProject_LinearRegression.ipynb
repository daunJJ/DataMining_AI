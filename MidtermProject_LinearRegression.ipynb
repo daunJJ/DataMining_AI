{
  "nbformat": 4,
  "nbformat_minor": 0,
  "metadata": {
    "colab": {
      "provenance": []
    },
    "kernelspec": {
      "name": "python3",
      "display_name": "Python 3"
    },
    "language_info": {
      "name": "python"
    }
  },
  "cells": [
    {
      "cell_type": "markdown",
      "source": [
        "*주의: 파일명은 반드시 학번_이름.ipynb로 저장합니다"
      ],
      "metadata": {
        "id": "-odfAiGNu_00"
      }
    },
    {
      "cell_type": "markdown",
      "source": [
        "=============================================\n",
        "\n",
        "1. 데이터 탐색하기\n",
        "\n",
        "============================================="
      ],
      "metadata": {
        "id": "_QezQjCKvFFQ"
      }
    },
    {
      "cell_type": "code",
      "source": [
        "from google.colab import drive\n",
        "drive.mount('/content/drive')"
      ],
      "metadata": {
        "colab": {
          "base_uri": "https://localhost:8080/"
        },
        "id": "n_53d5Ee54NI",
        "outputId": "89248b93-a8d8-4c57-d205-5f585f8e8e8a"
      },
      "execution_count": null,
      "outputs": [
        {
          "output_type": "stream",
          "name": "stdout",
          "text": [
            "Mounted at /content/drive\n"
          ]
        }
      ]
    },
    {
      "cell_type": "code",
      "source": [
        "# 1-0. 파일 불러오기\n",
        "import pandas as pd\n",
        "import seaborn as sns\n",
        "import matplotlib.pyplot as plt\n",
        "df = pd.read_csv('/content/drive/MyDrive/Colab Notebooks/데이터마이닝개론/Data/dataset.csv')\n",
        "# 1-1. 첫 세 줄 확인하기\n",
        "print(\"=============== 1.1 첫 세 줄 확인하기 ===============\")\n",
        "print(df.head(3))\n",
        "# 1-2. 데이터프레임 사이즈(크기) 확인하기\n",
        "print(\"=============== 1.2 데이터프레임 사이즈 확인하기 ===============\")\n",
        "print(df.shape)\n",
        "print(df.size)\n",
        "# 1-3. 데이터프레임 기본적인 통계 정보 확인하기\n",
        "print(\"=============== 1.3 기본적인 통계 정보 확인하기 ===============\")\n",
        "print(df.describe())\n",
        "# 1-4. 컬럼 이름 출력해보기\n",
        "print(\"=============== 1.4 칼럼 이름 출력해보기 ===============\")\n",
        "print(df.columns)\n",
        "# 1-5. 특징 간 상관관계 시각화하기\n",
        "print(\"=============== 1.5 상관관계 시각화하기 ===============\")\n",
        "cor = df.corr()\n",
        "sns.heatmap(cor, annot=False, cmap=plt.cm.Blues)\n",
        "plt.show()"
      ],
      "metadata": {
        "id": "b7yMPZuTutXy",
        "colab": {
          "base_uri": "https://localhost:8080/",
          "height": 1000
        },
        "outputId": "747ca083-d8e6-4f1d-8828-8837e0178da5"
      },
      "execution_count": null,
      "outputs": [
        {
          "output_type": "stream",
          "name": "stdout",
          "text": [
            "=============== 1.1 첫 세 줄 확인하기 ===============\n",
            "       Country  Year      Status  Life expectancy  Adult mortality  \\\n",
            "0  Afghanistan  2015  Developing             65.0            263.0   \n",
            "1  Afghanistan  2014  Developing             59.9            271.0   \n",
            "2  Afghanistan  2013  Developing             59.9            268.0   \n",
            "\n",
            "   Infant deaths  Alcohol  Percentage expenditure  Hepatitis B  Measles  ...  \\\n",
            "0             62     0.01               71.279624         65.0     1154  ...   \n",
            "1             64     0.01               73.523582         62.0      492  ...   \n",
            "2             66     0.01               73.219243         64.0      430  ...   \n",
            "\n",
            "   Polio  Total expenditure  Diphtheria  HIV/AIDS         GDP  Population  \\\n",
            "0    6.0               8.16        65.0       0.1  584.259210  33736494.0   \n",
            "1   58.0               8.18        62.0       0.1  612.696514    327582.0   \n",
            "2   62.0               8.13        64.0       0.1  631.744976  31731688.0   \n",
            "\n",
            "   Thinness 1-19 years  Thinness 5-9 years  Income composition of resources  \\\n",
            "0                 17.2                17.3                            0.479   \n",
            "1                 17.5                17.5                            0.476   \n",
            "2                 17.7                17.7                            0.470   \n",
            "\n",
            "   Schooling  \n",
            "0       10.1  \n",
            "1       10.0  \n",
            "2        9.9  \n",
            "\n",
            "[3 rows x 22 columns]\n",
            "=============== 1.2 데이터프레임 사이즈 확인하기 ===============\n",
            "(2938, 22)\n",
            "64636\n",
            "=============== 1.3 기본적인 통계 정보 확인하기 ===============\n",
            "              Year  Life expectancy  Adult mortality  Infant deaths  \\\n",
            "count  2938.000000      2928.000000      2928.000000    2938.000000   \n",
            "mean   2007.518720        69.224932       164.796448      30.303948   \n",
            "std       4.613841         9.523867       124.292079     117.926501   \n",
            "min    2000.000000        36.300000         1.000000       0.000000   \n",
            "25%    2004.000000        63.100000        74.000000       0.000000   \n",
            "50%    2008.000000        72.100000       144.000000       3.000000   \n",
            "75%    2012.000000        75.700000       228.000000      22.000000   \n",
            "max    2015.000000        89.000000       723.000000    1800.000000   \n",
            "\n",
            "           Alcohol  Percentage expenditure  Hepatitis B        Measles  \\\n",
            "count  2744.000000             2938.000000  2385.000000    2938.000000   \n",
            "mean      4.602861              738.251295    80.940461    2419.592240   \n",
            "std       4.052413             1987.914858    25.070016   11467.272489   \n",
            "min       0.010000                0.000000     1.000000       0.000000   \n",
            "25%       0.877500                4.685343    77.000000       0.000000   \n",
            "50%       3.755000               64.912906    92.000000      17.000000   \n",
            "75%       7.702500              441.534144    97.000000     360.250000   \n",
            "max      17.870000            19479.911610    99.000000  212183.000000   \n",
            "\n",
            "               BMI  Under-five deaths        Polio  Total expenditure  \\\n",
            "count  2904.000000        2938.000000  2919.000000         2712.00000   \n",
            "mean     38.321247          42.035739    82.550188            5.93819   \n",
            "std      20.044034         160.445548    23.428046            2.49832   \n",
            "min       1.000000           0.000000     3.000000            0.37000   \n",
            "25%      19.300000           0.000000    78.000000            4.26000   \n",
            "50%      43.500000           4.000000    93.000000            5.75500   \n",
            "75%      56.200000          28.000000    97.000000            7.49250   \n",
            "max      87.300000        2500.000000    99.000000           17.60000   \n",
            "\n",
            "        Diphtheria     HIV/AIDS            GDP    Population  \\\n",
            "count  2919.000000  2938.000000    2490.000000  2.286000e+03   \n",
            "mean     82.324084     1.742103    7483.158469  1.275338e+07   \n",
            "std      23.716912     5.077785   14270.169342  6.101210e+07   \n",
            "min       2.000000     0.100000       1.681350  3.400000e+01   \n",
            "25%      78.000000     0.100000     463.935626  1.957932e+05   \n",
            "50%      93.000000     0.100000    1766.947595  1.386542e+06   \n",
            "75%      97.000000     0.800000    5910.806335  7.420359e+06   \n",
            "max      99.000000    50.600000  119172.741800  1.293859e+09   \n",
            "\n",
            "       Thinness 1-19 years  Thinness 5-9 years  \\\n",
            "count          2904.000000         2904.000000   \n",
            "mean              4.839704            4.870317   \n",
            "std               4.420195            4.508882   \n",
            "min               0.100000            0.100000   \n",
            "25%               1.600000            1.500000   \n",
            "50%               3.300000            3.300000   \n",
            "75%               7.200000            7.200000   \n",
            "max              27.700000           28.600000   \n",
            "\n",
            "       Income composition of resources    Schooling  \n",
            "count                      2771.000000  2775.000000  \n",
            "mean                          0.627551    11.992793  \n",
            "std                           0.210904     3.358920  \n",
            "min                           0.000000     0.000000  \n",
            "25%                           0.493000    10.100000  \n",
            "50%                           0.677000    12.300000  \n",
            "75%                           0.779000    14.300000  \n",
            "max                           0.948000    20.700000  \n",
            "=============== 1.4 칼럼 이름 출력해보기 ===============\n",
            "Index(['Country', 'Year', 'Status', 'Life expectancy', 'Adult mortality',\n",
            "       'Infant deaths', 'Alcohol', 'Percentage expenditure', 'Hepatitis B',\n",
            "       'Measles', 'BMI', 'Under-five deaths', 'Polio', 'Total expenditure',\n",
            "       'Diphtheria', 'HIV/AIDS', 'GDP', 'Population', 'Thinness 1-19 years',\n",
            "       'Thinness 5-9 years', 'Income composition of resources', 'Schooling'],\n",
            "      dtype='object')\n",
            "=============== 1.5 상관관계 시각화하기 ===============\n"
          ]
        },
        {
          "output_type": "stream",
          "name": "stderr",
          "text": [
            "<ipython-input-2-877beb05aff7>:21: FutureWarning: The default value of numeric_only in DataFrame.corr is deprecated. In a future version, it will default to False. Select only valid columns or specify the value of numeric_only to silence this warning.\n",
            "  cor = df.corr()\n"
          ]
        },
        {
          "output_type": "display_data",
          "data": {
            "text/plain": [
              "<Figure size 640x480 with 2 Axes>"
            ],
            "image/png": "[encoded data removed]"
          },
          "metadata": {}
        }
      ]
    },
    {
      "cell_type": "markdown",
      "source": [
        "---------------------------------------------\n",
        "\n",
        "Q1. 탐색 결과로부터 이 데이터에 대해서 알게 된 사실은 무엇인가?\n",
        "\n",
        "---------------------------------------------"
      ],
      "metadata": {
        "id": "OBTHIvogwRns"
      }
    },
    {
      "cell_type": "markdown",
      "source": [
        "A1.\n",
        "*   이 데이터는 총 2938개의 행과 22개의 열로 구성되어 총 64636개의 데이터로  이루어져있다.\n",
        "*   22개의 변수 중 문자형 변수가 2개 (country, Status), 숫자형 변수가 20개이다.\n",
        "*   기본적인 통계정보를 확인해보았을 때, Population 변수의 값이 과도하게 큰 범위를 가지는 것을 알 수 있다.\n",
        "*   변수들은 ['Country', 'Year', 'Status', 'Life expectancy', 'Adult mortality',\n",
        "       'Infant deaths', 'Alcohol', 'Percentage expenditure', 'Hepatitis B',\n",
        "       'Measles', 'BMI', 'Under-five deaths', 'Polio', 'Total expenditure',\n",
        "       'Diphtheria', 'HIV/AIDS', 'GDP', 'Population', 'Thinness 1-19 years',\n",
        "       'Thinness 5-9 years', 'Income composition of resources', 'Schooling'] 으로 이루어져 있다.\n",
        "*   변수들 간의 상관관계를 시각화한 결과 'Infant deaths'와 'Under-five-deaths', 'Percentage expenditure'와 'GDP', 'Thinness 1-19 years'와 'Thinness 5-9 years' 등이 높은 양의 상관관계를 가짐을 알 수 있다.\n",
        "*  'Life expectancy'와 'Adult mortality'는 높은 음의 상관관계를 가짐을 알 수 있다.\n",
        "\n"
      ],
      "metadata": {
        "id": "mrtWpY87JuBB"
      }
    },
    {
      "cell_type": "markdown",
      "source": [
        "=============================================\n",
        "\n",
        "2. 데이터 특성 분석하기\n",
        "\n",
        "============================================="
      ],
      "metadata": {
        "id": "aV6X5xmXwfOT"
      }
    },
    {
      "cell_type": "code",
      "source": [
        "# 2-1. '기대 수명(Life expectancy)'과의 상관계수만 출력\n",
        "print(\"========= 2.1 '기대 수명(Life expectancy)'과의 상관계수만 출력 =========\")\n",
        "cor_target = cor['Life expectancy']\n",
        "print(cor_target)\n",
        "\n",
        "# 2-2. '기대 수명(Life expectancy)'과의 상관계수 결과에 절댓값을 취하고 상위 5개를 출력\n",
        "print(\"=============== 2.2 상위 5개를 출력 ===============\")\n",
        "cor_taget = abs(cor['Life expectancy'])\n",
        "select_cols = cor_target[abs(cor['Life expectancy']) > 0.5]\n",
        "print(select_cols)\n",
        "\n",
        "# 2-3. '기대 수명(Life expectancy)'과의 상관계수가 높은 5개의 특성에 결측값 검토하기: 몇 개나 있는지\n",
        "print(\"=============== 2.3 결측값 검토하기 ===============\")\n",
        "print(\"'Schooling'변수의 결측값 갯수: \", df['Schooling'].isnull().values.sum())\n",
        "print(\"'Income composition of resources'변수의 결측값 갯수: \", df['Income composition of resources'].isnull().values.sum())\n",
        "print(\"'Adult mortalitya'변수의 결측값 갯수: \", df['Adult mortality'].isnull().values.sum())\n",
        "print(\"'BMI'변수의 결측값 갯수: \", df['BMI'].isnull().values.sum())\n",
        "print(\"'HIV/AIDS'변수의 결측값 갯수: \", df['HIV/AIDS'].isnull().values.sum())\n",
        "\n",
        "# 2-4. 데이터프레임에서 결측 데이터를 삭제하기\n",
        "df = df.dropna(axis=0)"
      ],
      "metadata": {
        "id": "v92qgyXhwkTQ",
        "colab": {
          "base_uri": "https://localhost:8080/"
        },
        "outputId": "684ef722-00cd-4d25-b81a-b6cb98329276"
      },
      "execution_count": null,
      "outputs": [
        {
          "output_type": "stream",
          "name": "stdout",
          "text": [
            "========= 2.1 '기대 수명(Life expectancy)'과의 상관계수만 출력 =========\n",
            "Year                               0.170033\n",
            "Life expectancy                    1.000000\n",
            "Adult mortality                   -0.696359\n",
            "Infant deaths                     -0.196557\n",
            "Alcohol                            0.404877\n",
            "Percentage expenditure             0.381864\n",
            "Hepatitis B                        0.256762\n",
            "Measles                           -0.157586\n",
            "BMI                                0.567694\n",
            "Under-five deaths                 -0.222529\n",
            "Polio                              0.465556\n",
            "Total expenditure                  0.218086\n",
            "Diphtheria                         0.479495\n",
            "HIV/AIDS                          -0.556556\n",
            "GDP                                0.461455\n",
            "Population                        -0.021538\n",
            "Thinness 1-19 years               -0.477183\n",
            "Thinness 5-9 years                -0.471584\n",
            "Income composition of resources    0.724776\n",
            "Schooling                          0.751975\n",
            "Name: Life expectancy, dtype: float64\n",
            "=============== 2.2 상위 5개를 출력 ===============\n",
            "Life expectancy                    1.000000\n",
            "Adult mortality                   -0.696359\n",
            "BMI                                0.567694\n",
            "HIV/AIDS                          -0.556556\n",
            "Income composition of resources    0.724776\n",
            "Schooling                          0.751975\n",
            "Name: Life expectancy, dtype: float64\n",
            "=============== 2.3 결측값 검토하기 ===============\n",
            "'Schooling'변수의 결측값 갯수:  163\n",
            "'Income composition of resources'변수의 결측값 갯수:  167\n",
            "'Adult mortalitya'변수의 결측값 갯수:  10\n",
            "'BMI'변수의 결측값 갯수:  34\n",
            "'HIV/AIDS'변수의 결측값 갯수:  0\n"
          ]
        }
      ]
    },
    {
      "cell_type": "markdown",
      "source": [
        "---------------------------------------------\n",
        "\n",
        "Q2. 상관계수 분석 결과로부터 이 데이터에 대해서 새롭게 알게 된 사실은 무엇인가?\n",
        "\n",
        "---------------------------------------------"
      ],
      "metadata": {
        "id": "m89Tvrn7Mw83"
      }
    },
    {
      "cell_type": "markdown",
      "source": [
        "A2. \\\n",
        "* 한계점을 0.5로 설정하였을 때 '기대수명'과의 상관계수가 가장 높은 상위 5개의 변수가 출력되는데, 이는 순서대로 'Schooling', 'Income composition of resources', 'Adult mortality', 'BMI', 'HIV/AIDS'이다.\n",
        "* 상위 5개의 변수에는 'HIV/AIDS'를 제외하고 모두 결측값이 존재한다.\n",
        "  * 'Schooling'변수의 결측값 갯수:  163\n",
        "  * 'Income composition of resources'변수의 결측값 갯수:  167\n",
        "  * 'Adult mortality'변수의 결측값 갯수:  10\n",
        "  * 'BMI'변수의 결측값 갯수:  34\n",
        "  * 'HIV/AIDS'변수의 결측값 갯수:  0\n",
        "\n"
      ],
      "metadata": {
        "id": "91WF32bHM2T1"
      }
    },
    {
      "cell_type": "markdown",
      "source": [
        "=============================================\n",
        "\n",
        "3. 선형 회귀 모델 만들기\n",
        "\n",
        "============================================="
      ],
      "metadata": {
        "id": "pR0d6AGxKH8C"
      }
    },
    {
      "cell_type": "code",
      "source": [
        "# 3-1. 기대 수명을 예측하는 선형 회귀 모델을 만들어보자. 상관계수가 높았던 5개 특징을 선형 회귀 모델의 입력 X로 정의하자\n",
        "X = df[['Schooling', 'Income composition of resources', 'Adult mortality', 'BMI', 'HIV/AIDS']]\n",
        "y = df['Life expectancy']\n",
        "\n",
        "# 3-2. 훈련용과 테스트용 데이터로 분리한다. test_size=.33, random_state=42로 설정한다\n",
        "# r2 score로 모델 성능을 평가한다\n",
        "from sklearn.model_selection import train_test_split\n",
        "from sklearn.linear_model import LinearRegression\n",
        "from sklearn.metrics import r2_score\n",
        "\n",
        "X_train, X_test, y_train, y_test = train_test_split(X, y, test_size=.33, random_state=42)\n",
        "\n",
        "clf = LinearRegression()\n",
        "clf.fit(X_train, y_train)\n",
        "\n",
        "y_pred= clf.predict(X_test)\n",
        "r2 = r2_score(y_test, y_pred)\n",
        "print(\"========== 3-2. 5개 특징만 이용한 선형 회귀 모델  ==========\")\n",
        "print(\"r2 score is \"+str(r2))\n",
        "\n",
        "# 3-3. 문자열 특징을 제외하고 가능한 한 많은 특징을 사용해서 선형 회귀 모델을 다시 만들어 보자\n",
        "X_train, X_test, y_train, y_test = train_test_split(df.drop(['Country', 'Status', \"Life expectancy\"], axis=1), y, test_size=.33, random_state=42)\n",
        "\n",
        "clf= LinearRegression()\n",
        "clf.fit(X_train, y_train)\n",
        "\n",
        "y_pred= clf.predict(X_test)\n",
        "r2 = r2_score(y_test, y_pred)\n",
        "print(\"========== 3-3. 문자열 제외 모든 특징을 사용한 선형 회귀 모델  ==========\")\n",
        "print(\"r2 score is \"+str(r2))\n"
      ],
      "metadata": {
        "id": "1yUWMqeRyzg0",
        "colab": {
          "base_uri": "https://localhost:8080/"
        },
        "outputId": "46e640df-8bae-40c8-daac-4367a53bc3ae"
      },
      "execution_count": null,
      "outputs": [
        {
          "output_type": "stream",
          "name": "stdout",
          "text": [
            "========== 3-2. 5개 특징만 이용한 선형 회귀 모델  ==========\n",
            "r2 score is 0.8143633625822568\n",
            "========== 3-3. 문자열 제외 모든 특징을 사용한 선형 회귀 모델  ==========\n",
            "r2 score is 0.8383257378575212\n"
          ]
        }
      ]
    },
    {
      "cell_type": "markdown",
      "source": [
        "---------------------------------------------\n",
        "\n",
        "Q3. 3-2와 3-3의 결과로부터 새롭게 알게 된 사실은 무엇인가?\n",
        "\n",
        "---------------------------------------------"
      ],
      "metadata": {
        "id": "ZPUS9bR7NOSp"
      }
    },
    {
      "cell_type": "markdown",
      "source": [
        "A3.\n",
        "* 기대수명과 상관계수가 높은 5개의 특징을 이용한 선형 회귀 모델의 r2 score는 0.81436이며 문자열 제외 모든 특징을 사용한 선형 회귀 모델의 r2 score는 0.8383이다.\n",
        "* 두번째 모델의 성능이 더 높은 것을 알 수 있다. (= 설명력이 높다)"
      ],
      "metadata": {
        "id": "riIyOmj6NS1b"
      }
    },
    {
      "cell_type": "markdown",
      "source": [
        "=============================================\n",
        "\n",
        "4. Regularization penalty 추가하기\n",
        "\n",
        "============================================="
      ],
      "metadata": {
        "id": "4PCV59YEN22q"
      }
    },
    {
      "cell_type": "code",
      "source": [
        "# 4-1. Regularization penalty를 추가해보자\n",
        "# 입력은 5개 특성만 사용한다\n",
        "# 훈련용과 테스트용 데이터로 분리한다. test_size=.33, random_state=42로 설정한다\n",
        "from sklearn.linear_model import Lasso\n",
        "from sklearn.linear_model import Ridge\n",
        "\n",
        "X = df[['Schooling', 'Income composition of resources', 'Adult mortality', 'BMI', 'HIV/AIDS']]\n",
        "y = df['Life expectancy']\n",
        "\n",
        "X_train, X_test, y_train, y_test = train_test_split(X, y, test_size=.33, random_state=42)\n",
        "\n",
        "# 4-2. alpha값을 [0.001, 0.01, 1, 10, 100, 1000] 범위 안에서 바꿔가면서 Lasso 회귀 성능을 r2 score로 구해 보자\n",
        "### alpha 구간\n",
        "rng = [0.001, 0.01, 1, 10, 100, 1000]\n",
        "\n",
        "### Lasso regression r2 score 저장용 list\n",
        "r2_list1 = list()\n",
        "\n",
        "### alpha를 조정하며 모델 적합 후 r2 score 계산\n",
        "for a in rng:\n",
        "  clf = Lasso(alpha = a)\n",
        "  clf.fit(X_train, y_train)\n",
        "\n",
        "  y_pred = clf.predict(X_test)\n",
        "  r2 = r2_score(y_test, y_pred)\n",
        "  r2_list1.append(r2)\n",
        "\n",
        "### r2 score 출력\n",
        "print(\"========== 4-2. Lasso 회귀 성능 r2 score  ==========\")\n",
        "print(r2_list1)\n",
        "\n",
        "# 4-3. alpha값을 [0.001, 0.01, 1, 10, 100, 1000] 범위 안에서 바꿔가면서 Ridge 회귀 성능을 r2 score로 구해 보자\n",
        "### Ridge regression r2 score 저장용 list\n",
        "r2_list2 = list()\n",
        "\n",
        "### alpha를 조정하며 모델 적합 후 r2 score 계산\n",
        "for a in rng:\n",
        "  clf = Ridge(alpha = a)\n",
        "  clf.fit(X_train, y_train)\n",
        "\n",
        "  y_pred = clf.predict(X_test)\n",
        "  r2 = r2_score(y_test, y_pred)\n",
        "  r2_list2.append(r2)\n",
        "\n",
        "### r2 score 출력\n",
        "print(\"========== 4-3. Ridge 회귀 성능 r2 score  ==========\")\n",
        "print(r2_list2)\n",
        "\n",
        "# 4-4. x축이 alpha이고 y축이 r2 score인 그래프를 그려보자\n",
        "# lasso 성능은 파란색 점선으로, ridge 성능은 빨간색 점선으로 한 그래프 상에 나타내고,\n",
        "# 범례의 위치는 좌측 하단으로 설정한다\n",
        "import matplotlib.pyplot as plt\n",
        "\n",
        "plt.plot(rng, r2_list1,  \"bo\", linestyle = 'dotted', label='Lasso')\n",
        "plt.plot(rng, r2_list2,  \"ro\", linestyle = 'dotted', label='Ridge')\n",
        "plt.xlabel('alpha')\n",
        "plt.ylabel('r2 score')\n",
        "plt.legend(loc = 'lower left')\n",
        "plt.show()\n"
      ],
      "metadata": {
        "id": "IvsntoHaNhAW",
        "colab": {
          "base_uri": "https://localhost:8080/",
          "height": 522
        },
        "outputId": "2e870985-2ac5-44ff-a9e7-63baa83b25de"
      },
      "execution_count": null,
      "outputs": [
        {
          "output_type": "stream",
          "name": "stdout",
          "text": [
            "========== 4-2. Lasso 회귀 성능 r2 score  ==========\n",
            "[0.8142535715011412, 0.8132421857243007, 0.7916089788845498, 0.6382839065250427, 0.5048902384554472, -0.004309583280322382]\n",
            "========== 4-3. Ridge 회귀 성능 r2 score  ==========\n",
            "[0.8143623973580962, 0.8143537134888319, 0.8134323431517154, 0.8074396744784152, 0.7962103709141171, 0.7932011399695371]\n"
          ]
        },
        {
          "output_type": "display_data",
          "data": {
            "text/plain": [
              "<Figure size 640x480 with 1 Axes>"
            ],
            "image/png": "[encoded data removed]"
          },
          "metadata": {}
        }
      ]
    },
    {
      "cell_type": "markdown",
      "source": [
        "---------------------------------------------\n",
        "\n",
        "Q4a. 어느 경우에 성능이 가장 좋은가?\n",
        "\n",
        "Q4b. 4-2,4-3,4-4의 결과로 새롭게 알게 된 사실은 무엇인가?\n",
        "\n",
        "---------------------------------------------"
      ],
      "metadata": {
        "id": "QZWfT-VZg0ai"
      }
    },
    {
      "cell_type": "markdown",
      "source": [
        "A4a.\n",
        "* Ridge regression에서 alpha가 0.001인 경우에 성능이 가장 좋다.\n",
        "\n",
        "A4b.\n",
        "* 모델이 복잡해지지 않도록 regression에 패널티를 추가할 수 있는데 alpha를 이용하여 그 정도를 조절할 수 있다.\n",
        "* 이때 alpha의 값이 커질수록 모델이 과적합되어 성능이 떨어짐을 알 수 있다.\n",
        "* 특히 Lasso regression은 alpha가 1000인 경우에 음수의 r2 score를 가지는데, 이는 일괄 평균으로 예측하는 것보다 모델의 성능이 떨어진다는 것을 의미한다.\n",
        "* Lasso와 Ridge를 비교해보았을 때 Ridge모델에서 더 높은 성능을 보인다."
      ],
      "metadata": {
        "id": "_diNOM1Fg429"
      }
    },
    {
      "cell_type": "markdown",
      "source": [
        "=============================================\n",
        "\n",
        "5. 수업에서 배운 내용을 활용하여 자유롭게\n",
        "\n",
        "  선형 회귀 모델 성능을 개선시켜 보자\n",
        "\n",
        "  *주석 사용 필수\n",
        "  \n",
        "  **모델 성능 평가는 4번과 동일하게: test_size=.33, random_state=42, r2 score 사용\n",
        "\n",
        "============================================="
      ],
      "metadata": {
        "id": "hgdv4sP_e5iX"
      }
    },
    {
      "cell_type": "code",
      "source": [
        "##### 데이터 전처리 #####\n",
        "df = pd.read_csv('/content/drive/MyDrive/Colab Notebooks/데이터마이닝개론/Data/dataset.csv')\n",
        "\n",
        "## 0. 범주형 변수 Encoding 전 범주형 변수의 특성을 파악한다.\n",
        "print(\"'Country' 변수의 고유값: \", df['Country'].unique())\n",
        "print(\"'Status' 변수의 고유값: \", df['Status'].unique())"
      ],
      "metadata": {
        "colab": {
          "base_uri": "https://localhost:8080/"
        },
        "id": "sriofYZJYgK0",
        "outputId": "e258e04f-0b51-454f-9f14-5be58c9cbd24"
      },
      "execution_count": null,
      "outputs": [
        {
          "output_type": "stream",
          "name": "stdout",
          "text": [
            "'Country' 변수의 고유값:  ['Afghanistan' 'Albania' 'Algeria' 'Angola' 'Antigua and Barbuda'\n",
            " 'Argentina' 'Armenia' 'Australia' 'Austria' 'Azerbaijan' 'Bahamas'\n",
            " 'Bahrain' 'Bangladesh' 'Barbados' 'Belarus' 'Belgium' 'Belize' 'Benin'\n",
            " 'Bhutan' 'Bolivia (Plurinational State of)' 'Bosnia and Herzegovina'\n",
            " 'Botswana' 'Brazil' 'Brunei Darussalam' 'Bulgaria' 'Burkina Faso'\n",
            " 'Burundi' \"Côte d'Ivoire\" 'Cabo Verde' 'Cambodia' 'Cameroon' 'Canada'\n",
            " 'Central African Republic' 'Chad' 'Chile' 'China' 'Colombia' 'Comoros'\n",
            " 'Congo' 'Cook Islands' 'Costa Rica' 'Croatia' 'Cuba' 'Cyprus' 'Czechia'\n",
            " \"Democratic People's Republic of Korea\"\n",
            " 'Democratic Republic of the Congo' 'Denmark' 'Djibouti' 'Dominica'\n",
            " 'Dominican Republic' 'Ecuador' 'Egypt' 'El Salvador' 'Equatorial Guinea'\n",
            " 'Eritrea' 'Estonia' 'Ethiopia' 'Fiji' 'Finland' 'France' 'Gabon' 'Gambia'\n",
            " 'Georgia' 'Germany' 'Ghana' 'Greece' 'Grenada' 'Guatemala' 'Guinea'\n",
            " 'Guinea-Bissau' 'Guyana' 'Haiti' 'Honduras' 'Hungary' 'Iceland' 'India'\n",
            " 'Indonesia' 'Iran (Islamic Republic of)' 'Iraq' 'Ireland' 'Israel'\n",
            " 'Italy' 'Jamaica' 'Japan' 'Jordan' 'Kazakhstan' 'Kenya' 'Kiribati'\n",
            " 'Kuwait' 'Kyrgyzstan' \"Lao People's Democratic Republic\" 'Latvia'\n",
            " 'Lebanon' 'Lesotho' 'Liberia' 'Libya' 'Lithuania' 'Luxembourg'\n",
            " 'Madagascar' 'Malawi' 'Malaysia' 'Maldives' 'Mali' 'Malta'\n",
            " 'Marshall Islands' 'Mauritania' 'Mauritius' 'Mexico'\n",
            " 'Micronesia (Federated States of)' 'Monaco' 'Mongolia' 'Montenegro'\n",
            " 'Morocco' 'Mozambique' 'Myanmar' 'Namibia' 'Nauru' 'Nepal' 'Netherlands'\n",
            " 'New Zealand' 'Nicaragua' 'Niger' 'Nigeria' 'Niue' 'Norway' 'Oman'\n",
            " 'Pakistan' 'Palau' 'Panama' 'Papua New Guinea' 'Paraguay' 'Peru'\n",
            " 'Philippines' 'Poland' 'Portugal' 'Qatar' 'Republic of Korea'\n",
            " 'Republic of Moldova' 'Romania' 'Russian Federation' 'Rwanda'\n",
            " 'Saint Kitts and Nevis' 'Saint Lucia' 'Saint Vincent and the Grenadines'\n",
            " 'Samoa' 'San Marino' 'Sao Tome and Principe' 'Saudi Arabia' 'Senegal'\n",
            " 'Serbia' 'Seychelles' 'Sierra Leone' 'Singapore' 'Slovakia' 'Slovenia'\n",
            " 'Solomon Islands' 'Somalia' 'South Africa' 'South Sudan' 'Spain'\n",
            " 'Sri Lanka' 'Sudan' 'Suriname' 'Swaziland' 'Sweden' 'Switzerland'\n",
            " 'Syrian Arab Republic' 'Tajikistan' 'Thailand'\n",
            " 'The former Yugoslav republic of Macedonia' 'Timor-Leste' 'Togo' 'Tonga'\n",
            " 'Trinidad and Tobago' 'Tunisia' 'Turkey' 'Turkmenistan' 'Tuvalu' 'Uganda'\n",
            " 'Ukraine' 'United Arab Emirates'\n",
            " 'United Kingdom of Great Britain and Northern Ireland'\n",
            " 'United Republic of Tanzania' 'United States of America' 'Uruguay'\n",
            " 'Uzbekistan' 'Vanuatu' 'Venezuela (Bolivarian Republic of)' 'Viet Nam'\n",
            " 'Yemen' 'Zambia' 'Zimbabwe']\n",
            "'Status' 변수의 고유값:  ['Developing' 'Developed']\n"
          ]
        }
      ]
    },
    {
      "cell_type": "code",
      "source": [
        "## 1. 범주형 변수에 대해 Encoding 한다.\n",
        "# 고유값 개수가 많은 'Country'변수는 Label Encoding,\n",
        "# 고유값 개수가 적은 'Status'변수는 One-hot Encoding\n",
        "from sklearn import preprocessing\n",
        "from sklearn.preprocessing import OneHotEncoder\n",
        "\n",
        "# 먼저 'Country' 변수에 대해 Label Encoding부터 수행한다.\n",
        "enc = preprocessing.LabelEncoder()\n",
        "\n",
        "out_enc1 = enc.fit_transform(df['Country'])\n",
        "df_enc1= pd.DataFrame(data= out_enc1, columns = ['Country'])\n",
        "\n",
        "# 다음으로 'Status' 변수에 대해 One-hot Encoding을 수행한다.\n",
        "enc2 = OneHotEncoder(sparse_output=False)\n",
        "\n",
        "out_enc2 = enc2.fit_transform(df[['Status']])\n",
        "new_cols = enc2.get_feature_names_out(['Status']).tolist()\n",
        "df_enc2= pd.DataFrame(data= out_enc2, columns = new_cols)\n",
        "\n",
        "# 변환한 두 범주형 데이터를 하나의 데이터프레임으로 합친다.\n",
        "df_enc = pd.concat([df_enc1, df_enc2], axis=1)\n",
        "\n",
        "## 2. 변환한 범주형 변수 데이터프레임과 기존 수치형 변수 데이터프레임을 합친 후 최종 데이터프레임을 출력한다.\n",
        "cols = ['Life expectancy', 'Year', 'Adult mortality', 'Infant deaths', 'Alcohol', 'Percentage expenditure', 'Hepatitis B', 'Measles', 'BMI', 'Under-five deaths', 'Polio', 'Total expenditure', 'Diphtheria', 'HIV/AIDS', 'GDP', 'Population', 'Thinness 1-19 years', 'Thinness 5-9 years', 'Income composition of resources', 'Schooling']\n",
        "df = pd.concat([df[cols], df_enc], axis=1)\n",
        "print(df.head())"
      ],
      "metadata": {
        "colab": {
          "base_uri": "https://localhost:8080/"
        },
        "id": "eQ9WF6hsF5U9",
        "outputId": "2fea3ee8-4b90-4de9-f46e-666a9648e16d"
      },
      "execution_count": null,
      "outputs": [
        {
          "output_type": "stream",
          "name": "stdout",
          "text": [
            "   Life expectancy  Year  Adult mortality  Infant deaths  Alcohol  \\\n",
            "0             65.0  2015            263.0             62     0.01   \n",
            "1             59.9  2014            271.0             64     0.01   \n",
            "2             59.9  2013            268.0             66     0.01   \n",
            "3             59.5  2012            272.0             69     0.01   \n",
            "4             59.2  2011            275.0             71     0.01   \n",
            "\n",
            "   Percentage expenditure  Hepatitis B  Measles   BMI  Under-five deaths  ...  \\\n",
            "0               71.279624         65.0     1154  19.1                 83  ...   \n",
            "1               73.523582         62.0      492  18.6                 86  ...   \n",
            "2               73.219243         64.0      430  18.1                 89  ...   \n",
            "3               78.184215         67.0     2787  17.6                 93  ...   \n",
            "4                7.097109         68.0     3013  17.2                 97  ...   \n",
            "\n",
            "   HIV/AIDS         GDP  Population  Thinness 1-19 years  Thinness 5-9 years  \\\n",
            "0       0.1  584.259210  33736494.0                 17.2                17.3   \n",
            "1       0.1  612.696514    327582.0                 17.5                17.5   \n",
            "2       0.1  631.744976  31731688.0                 17.7                17.7   \n",
            "3       0.1  669.959000   3696958.0                 17.9                18.0   \n",
            "4       0.1   63.537231   2978599.0                 18.2                18.2   \n",
            "\n",
            "   Income composition of resources  Schooling  Country  Status_Developed  \\\n",
            "0                            0.479       10.1        0               0.0   \n",
            "1                            0.476       10.0        0               0.0   \n",
            "2                            0.470        9.9        0               0.0   \n",
            "3                            0.463        9.8        0               0.0   \n",
            "4                            0.454        9.5        0               0.0   \n",
            "\n",
            "   Status_Developing  \n",
            "0                1.0  \n",
            "1                1.0  \n",
            "2                1.0  \n",
            "3                1.0  \n",
            "4                1.0  \n",
            "\n",
            "[5 rows x 23 columns]\n"
          ]
        }
      ]
    },
    {
      "cell_type": "code",
      "source": [
        "## 3. 결측치가 포함된 행을 삭제한다.\n",
        "df = df.dropna(axis=0)\n",
        "print(df.shape)\n",
        "\n",
        "## 4. StandardScaler를 이용해 데이터를 정규화한 후 선형회귀모형에 적합한다.\n",
        "from sklearn.preprocessing import StandardScaler\n",
        "\n",
        "X_train, X_test, y_train, y_test = train_test_split(df.drop(['Life expectancy'], axis=1), df['Life expectancy'], test_size=.33, random_state=42)\n",
        "\n",
        "scaler = StandardScaler()\n",
        "\n",
        "scaler.fit(X_train)\n",
        "X_train = scaler.transform(X_train)\n",
        "X_test = scaler.transform(X_test)\n",
        "\n",
        "clf= LinearRegression()\n",
        "clf.fit(X_train, y_train)\n",
        "\n",
        "y_pred= clf.predict(X_test)\n",
        "\n",
        "r2 = r2_score(y_test, y_pred)\n",
        "print(\"r2 score is \"+str(r2))"
      ],
      "metadata": {
        "colab": {
          "base_uri": "https://localhost:8080/"
        },
        "id": "drWGkR099DQ6",
        "outputId": "037558dd-2bd8-4bc2-aedc-5eb14d79ff47"
      },
      "execution_count": null,
      "outputs": [
        {
          "output_type": "stream",
          "name": "stdout",
          "text": [
            "(1649, 23)\n",
            "r2 score is 0.8390063474967354\n"
          ]
        }
      ]
    },
    {
      "cell_type": "code",
      "source": [],
      "metadata": {
        "id": "vScAFqyIQfqt"
      },
      "execution_count": null,
      "outputs": []
    }
  ]
}